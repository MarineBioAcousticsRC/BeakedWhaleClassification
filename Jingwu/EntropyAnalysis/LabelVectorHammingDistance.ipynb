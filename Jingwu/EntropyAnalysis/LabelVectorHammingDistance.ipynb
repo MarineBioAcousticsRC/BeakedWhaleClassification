{
 "cells": [
  {
   "cell_type": "code",
   "execution_count": 1,
   "metadata": {},
   "outputs": [],
   "source": [
    "import scipy.io\n",
    "import numpy as np\n",
    "from collections import defaultdict\n",
    "from scipy.sparse import dok_matrix"
   ]
  },
  {
   "cell_type": "code",
   "execution_count": 2,
   "metadata": {},
   "outputs": [],
   "source": [
    "def findMaxIndex(mat, maxLength=None):\n",
    "    size = 0\n",
    "    for nset in mat['nodeSet'][0]:\n",
    "        if maxLength:\n",
    "            size = max(maxLength+1, size)\n",
    "        else:\n",
    "            size = max(np.max(nset.flatten())+1, size)\n",
    "    return size\n",
    "\n",
    "def convertToCluster(mat, maxLength=None):\n",
    "    # label 0 are nodes ioslated or label paddings\n",
    "    size = findMaxIndex(mat, maxLength)\n",
    "    clusters = np.zeros(size)\n",
    "    label = 1\n",
    "    for nset in mat['nodeSet'][0]:\n",
    "        clusters[nset.flatten()] = label\n",
    "        label += 1\n",
    "    return clusters"
   ]
  },
  {
   "cell_type": "code",
   "execution_count": 5,
   "metadata": {},
   "outputs": [
    {
     "data": {
      "text/plain": [
       "(array([[ 0.,  1.,  0., ..., 11.,  0.,  0.],\n",
       "        [ 0.,  2.,  0., ..., 11.,  0.,  0.],\n",
       "        [ 0., 12.,  0., ...,  0.,  0.,  0.],\n",
       "        ...,\n",
       "        [ 0.,  2.,  0., ...,  0.,  0.,  0.],\n",
       "        [ 0.,  2.,  0., ...,  0.,  0.,  0.],\n",
       "        [ 0.,  2.,  0., ..., 10.,  0.,  0.]]), (200, 5246))"
      ]
     },
     "execution_count": 5,
     "metadata": {},
     "output_type": "execute_result"
    }
   ],
   "source": [
    "import os\n",
    "out_dir = 'composite_cluster_outputs_all_85/'\n",
    "\n",
    "clusters = []\n",
    "for file in os.listdir(out_dir):\n",
    "    if not file.endswith('mat'): continue\n",
    "    path = out_dir + file\n",
    "    mat = scipy.io.loadmat(path)\n",
    "    clusters.append(convertToCluster(mat, maxLength=5245))\n",
    "labels = np.array(clusters)\n",
    "# np.save('composite_cluster_all_85', labels)\n",
    "labels, labels.shape"
   ]
  },
  {
   "cell_type": "code",
   "execution_count": 6,
   "metadata": {},
   "outputs": [],
   "source": [
    "def createLabelVector(labels):\n",
    "    mruns, nsamples = labels.shape\n",
    "    return [tuple(labels[:,i]) for i in range(nsamples)]"
   ]
  },
  {
   "cell_type": "code",
   "execution_count": 7,
   "metadata": {},
   "outputs": [],
   "source": [
    "def countLabelVector(labelVectors):\n",
    "    lv_dict = defaultdict(int)\n",
    "    for lv in labelVectors:\n",
    "        lv_dict[lv] += 1\n",
    "    return lv_dict"
   ]
  },
  {
   "cell_type": "code",
   "execution_count": 8,
   "metadata": {},
   "outputs": [],
   "source": [
    "def computeHammingDistance(t1, t2):\n",
    "    return sum([t1[i] != t2[i] for i in range(len(t1))])"
   ]
  },
  {
   "cell_type": "code",
   "execution_count": 9,
   "metadata": {},
   "outputs": [],
   "source": [
    "def most_common(lst):\n",
    "    return int(max(((item, lst.count(item)) for item in set(lst)), key=lambda a: a[1])[0])"
   ]
  },
  {
   "cell_type": "code",
   "execution_count": 10,
   "metadata": {},
   "outputs": [],
   "source": [
    "# create edges between label vector if the hamming distance is smaller than a threshold\n",
    "# the weight of the edge is scaled to ampify the hamming distance effect\n",
    "def createEdges(keys, dist=10, scaling=-10.0):\n",
    "    n = len(keys)\n",
    "    dokmat = dok_matrix((n, n))\n",
    "    for i in range(n):\n",
    "        for j in range(i+1, n):\n",
    "            if (computeHammingDistance(keys[i], keys[j]) <= dist):\n",
    "                dokmat[i,j] = np.exp((computeHammingDistance(keys[i], keys[j])-1)/scaling)\n",
    "    return dokmat.tocoo()"
   ]
  },
  {
   "cell_type": "markdown",
   "metadata": {},
   "source": [
    "# load existing label vectors"
   ]
  },
  {
   "cell_type": "code",
   "execution_count": 5,
   "metadata": {},
   "outputs": [
    {
     "data": {
      "text/plain": [
       "(20, 5246)"
      ]
     },
     "execution_count": 5,
     "metadata": {},
     "output_type": "execute_result"
    }
   ],
   "source": [
    "labels = np.load('composite_cluster_all_85.npy')\n",
    "labels = labels.astype(int)\n",
    "labels.shape"
   ]
  },
  {
   "cell_type": "code",
   "execution_count": 17,
   "metadata": {},
   "outputs": [
    {
     "data": {
      "text/plain": [
       "(500, 3845)"
      ]
     },
     "execution_count": 17,
     "metadata": {},
     "output_type": "execute_result"
    }
   ],
   "source": [
    "# labels = np.load('composite_cluster_outputs_CINMS_80.npy')\n",
    "# labels = labels.astype(int)\n",
    "# labels.shape"
   ]
  },
  {
   "cell_type": "code",
   "execution_count": 73,
   "metadata": {
    "scrolled": true
   },
   "outputs": [
    {
     "data": {
      "text/plain": [
       "(108, 5246)"
      ]
     },
     "execution_count": 73,
     "metadata": {},
     "output_type": "execute_result"
    }
   ],
   "source": [
    "# row iterations, column samples\n",
    "labels.shape"
   ]
  },
  {
   "cell_type": "code",
   "execution_count": 11,
   "metadata": {},
   "outputs": [
    {
     "data": {
      "text/plain": [
       "array([[ 0.,  1.,  0., ..., 11.,  0.,  0.],\n",
       "       [ 0.,  2.,  0., ..., 11.,  0.,  0.],\n",
       "       [ 0., 12.,  0., ...,  0.,  0.,  0.],\n",
       "       ...,\n",
       "       [ 0.,  2.,  0., ...,  0.,  0.,  0.],\n",
       "       [ 0.,  2.,  0., ...,  0.,  0.,  0.],\n",
       "       [ 0.,  2.,  0., ..., 10.,  0.,  0.]])"
      ]
     },
     "execution_count": 11,
     "metadata": {},
     "output_type": "execute_result"
    }
   ],
   "source": [
    "labels"
   ]
  },
  {
   "cell_type": "code",
   "execution_count": 12,
   "metadata": {},
   "outputs": [
    {
     "data": {
      "text/plain": [
       "array([14, 15, 14, 14, 14, 15, 13, 15, 14, 13, 14, 15, 14, 15, 13, 14, 14,\n",
       "       15, 14, 14, 14, 14, 14, 15, 15, 15, 14, 15, 15, 14, 15, 14, 14, 15,\n",
       "       15, 14, 14, 14, 15, 14, 15, 14, 15, 16, 15, 14, 15, 14, 15, 15, 15,\n",
       "       14, 15, 15, 14, 14, 15, 15, 14, 15, 15, 15, 15, 13, 14, 15, 15, 15,\n",
       "       15, 14, 13, 13, 14, 13, 14, 15, 14, 15, 14, 15, 14, 14, 14, 15, 14,\n",
       "       13, 15, 15, 12, 14, 15, 14, 14, 16, 14, 15, 14, 15, 15, 13, 15, 14,\n",
       "       14, 15, 15, 15, 15, 14, 15, 14, 15, 14, 15, 15, 14, 13, 14, 15, 14,\n",
       "       15, 14, 14, 14, 14, 15, 14, 15, 15, 15, 14, 13, 13, 14, 15, 13, 14,\n",
       "       14, 13, 15, 14, 15, 15, 15, 14, 15, 12, 14, 15, 13, 14, 14, 15, 15,\n",
       "       14, 14, 15, 15, 15, 14, 14, 14, 15, 14, 15, 15, 13, 15, 15, 13, 15,\n",
       "       15, 14, 14, 15, 15, 15, 15, 13, 14, 15, 15, 15, 14, 14, 15, 14, 14,\n",
       "       12, 15, 14, 14, 14, 14, 14, 14, 15, 14, 14, 14, 15])"
      ]
     },
     "execution_count": 12,
     "metadata": {},
     "output_type": "execute_result"
    }
   ],
   "source": [
    "# how many different clusters do Kait's clustering algorithm give us each time?\n",
    "counts = np.sort(labels,axis=1)\n",
    "(counts[:,1:] != counts[:,:-1]).sum(axis=1)+1"
   ]
  },
  {
   "cell_type": "code",
   "execution_count": 28,
   "metadata": {},
   "outputs": [
    {
     "data": {
      "text/plain": [
       "34"
      ]
     },
     "execution_count": 28,
     "metadata": {},
     "output_type": "execute_result"
    }
   ],
   "source": [
    "# 0s are paddings or without actual meaning\n",
    "lv_dict = countLabelVector(createLabelVector(labels))\n",
    "keys = list(lv_dict)\n",
    "keys = list(filter(lambda key: most_common(key) != 0, keys))\n",
    "len(keys)"
   ]
  },
  {
   "cell_type": "code",
   "execution_count": 32,
   "metadata": {},
   "outputs": [],
   "source": [
    "coomat = createEdges(keys, dist=199, scaling=-199)"
   ]
  },
  {
   "cell_type": "code",
   "execution_count": 33,
   "metadata": {},
   "outputs": [],
   "source": [
    "nodes = []\n",
    "for i, key in enumerate(keys):\n",
    "    nodes.append({'id': i, \n",
    "                  'r': lv_dict[key],\n",
    "                  'group': most_common(key)\n",
    "                 })\n",
    "links = []\n",
    "for i, j, v in zip(coomat.row, coomat.col, coomat.data):\n",
    "    links.append({'source': int(i), \n",
    "                  'target': int(j),\n",
    "                  'weight': v*10,\n",
    "                 })"
   ]
  },
  {
   "cell_type": "code",
   "execution_count": 34,
   "metadata": {},
   "outputs": [],
   "source": [
    "import json\n",
    "with open('nodes.json', 'w') as f:\n",
    "    json.dump(nodes, f)\n",
    "with open('links.json', 'w') as f:\n",
    "    json.dump(links, f)"
   ]
  },
  {
   "cell_type": "markdown",
   "metadata": {},
   "source": [
    "Use the saved json files to visualize the effects:\n",
    "\n",
    "https://observablehq.com/@jingwu010/force-directed-graph"
   ]
  },
  {
   "cell_type": "code",
   "execution_count": 31,
   "metadata": {
    "scrolled": false
   },
   "outputs": [
    {
     "data": {
      "text/plain": [
       "[{'source': 0, 'target': 1, 'weight': 4.382349924649493},\n",
       " {'source': 0, 'target': 2, 'weight': 10.0},\n",
       " {'source': 0, 'target': 3, 'weight': 9.950124791926823},\n",
       " {'source': 0, 'target': 4, 'weight': 4.448580662229411},\n",
       " {'source': 0, 'target': 5, 'weight': 10.0},\n",
       " {'source': 0, 'target': 10, 'weight': 8.607079764250578},\n",
       " {'source': 0, 'target': 13, 'weight': 9.950124791926823},\n",
       " {'source': 0, 'target': 19, 'weight': 4.106557527523455},\n",
       " {'source': 0, 'target': 20, 'weight': 4.867522559599717},\n",
       " {'source': 0, 'target': 21, 'weight': 9.559974818331},\n",
       " {'source': 0, 'target': 23, 'weight': 4.382349924649493},\n",
       " {'source': 0, 'target': 25, 'weight': 3.9455371037160107},\n",
       " {'source': 0, 'target': 27, 'weight': 3.8098319973933723},\n",
       " {'source': 0, 'target': 28, 'weight': 9.950124791926823},\n",
       " {'source': 0, 'target': 29, 'weight': 4.252831910822741},\n",
       " {'source': 1, 'target': 2, 'weight': 4.404316545059993},\n",
       " {'source': 1, 'target': 3, 'weight': 4.360492863215356},\n",
       " {'source': 1, 'target': 4, 'weight': 9.900498337491682},\n",
       " {'source': 1, 'target': 5, 'weight': 4.382349924649493},\n",
       " {'source': 1, 'target': 10, 'weight': 4.231620823177488},\n",
       " {'source': 1, 'target': 13, 'weight': 4.360492863215356},\n",
       " {'source': 1, 'target': 19, 'weight': 3.7719235356315695},\n",
       " {'source': 1, 'target': 20, 'weight': 9.048374180359595},\n",
       " {'source': 1, 'target': 21, 'weight': 4.3387448143299086},\n",
       " {'source': 1, 'target': 23, 'weight': 9.048374180359595},\n",
       " {'source': 1, 'target': 25, 'weight': 3.734392269366609},\n",
       " {'source': 1, 'target': 27, 'weight': 3.734392269366609},\n",
       " {'source': 1, 'target': 28, 'weight': 4.360492863215356},\n",
       " {'source': 1, 'target': 29, 'weight': 3.7719235356315695},\n",
       " {'source': 1, 'target': 33, 'weight': 3.715766910220457},\n",
       " {'source': 2, 'target': 3, 'weight': 9.950124791926823},\n",
       " {'source': 2, 'target': 4, 'weight': 4.470879265593564},\n",
       " {'source': 2, 'target': 5, 'weight': 10.0},\n",
       " {'source': 2, 'target': 10, 'weight': 8.607079764250578},\n",
       " {'source': 2, 'target': 13, 'weight': 9.950124791926823},\n",
       " {'source': 2, 'target': 19, 'weight': 4.106557527523455},\n",
       " {'source': 2, 'target': 20, 'weight': 4.8919211179633155},\n",
       " {'source': 2, 'target': 21, 'weight': 9.51229424500714},\n",
       " {'source': 2, 'target': 23, 'weight': 4.404316545059993},\n",
       " {'source': 2, 'target': 25, 'weight': 3.9455371037160107},\n",
       " {'source': 2, 'target': 27, 'weight': 3.8098319973933723},\n",
       " {'source': 2, 'target': 28, 'weight': 9.950124791926823},\n",
       " {'source': 2, 'target': 29, 'weight': 4.252831910822741},\n",
       " {'source': 3, 'target': 4, 'weight': 4.426393273613511},\n",
       " {'source': 3, 'target': 5, 'weight': 10.0},\n",
       " {'source': 3, 'target': 10, 'weight': 8.69358235398806},\n",
       " {'source': 3, 'target': 13, 'weight': 9.950124791926823},\n",
       " {'source': 3, 'target': 19, 'weight': 4.086075986408485},\n",
       " {'source': 3, 'target': 20, 'weight': 4.8432456895536244},\n",
       " {'source': 3, 'target': 21, 'weight': 9.464851479534838},\n",
       " {'source': 3, 'target': 23, 'weight': 4.360492863215356},\n",
       " {'source': 3, 'target': 25, 'weight': 3.9455371037160107},\n",
       " {'source': 3, 'target': 27, 'weight': 3.8098319973933723},\n",
       " {'source': 3, 'target': 28, 'weight': 9.950124791926823},\n",
       " {'source': 3, 'target': 29, 'weight': 4.252831910822741},\n",
       " {'source': 4, 'target': 5, 'weight': 4.448580662229411},\n",
       " {'source': 4, 'target': 10, 'weight': 4.295573582107392},\n",
       " {'source': 4, 'target': 13, 'weight': 4.426393273613511},\n",
       " {'source': 4, 'target': 19, 'weight': 3.7719235356315695},\n",
       " {'source': 4, 'target': 20, 'weight': 8.913661439068314},\n",
       " {'source': 4, 'target': 21, 'weight': 4.404316545059993},\n",
       " {'source': 4, 'target': 23, 'weight': 8.913661439068314},\n",
       " {'source': 4, 'target': 25, 'weight': 3.734392269366609},\n",
       " {'source': 4, 'target': 27, 'weight': 3.734392269366609},\n",
       " {'source': 4, 'target': 28, 'weight': 4.426393273613511},\n",
       " {'source': 4, 'target': 29, 'weight': 3.7719235356315695},\n",
       " {'source': 4, 'target': 33, 'weight': 3.715766910220457},\n",
       " {'source': 5, 'target': 10, 'weight': 8.650222931107413},\n",
       " {'source': 5, 'target': 13, 'weight': 9.950124791926823},\n",
       " {'source': 5, 'target': 19, 'weight': 4.106557527523455},\n",
       " {'source': 5, 'target': 20, 'weight': 4.867522559599717},\n",
       " {'source': 5, 'target': 21, 'weight': 9.51229424500714},\n",
       " {'source': 5, 'target': 23, 'weight': 4.382349924649493},\n",
       " {'source': 5, 'target': 25, 'weight': 3.9455371037160107},\n",
       " {'source': 5, 'target': 27, 'weight': 3.8098319973933723},\n",
       " {'source': 5, 'target': 28, 'weight': 9.950124791926823},\n",
       " {'source': 5, 'target': 29, 'weight': 4.252831910822741},\n",
       " {'source': 6, 'target': 8, 'weight': 3.9851904108451413},\n",
       " {'source': 6, 'target': 11, 'weight': 3.7531109885139955},\n",
       " {'source': 6, 'target': 14, 'weight': 4.025242240336359},\n",
       " {'source': 6, 'target': 16, 'weight': 9.656054162575664},\n",
       " {'source': 6, 'target': 17, 'weight': 10.0},\n",
       " {'source': 8, 'target': 11, 'weight': 9.464851479534838},\n",
       " {'source': 8, 'target': 14, 'weight': 9.950124791926823},\n",
       " {'source': 8, 'target': 16, 'weight': 3.9455371037160107},\n",
       " {'source': 8, 'target': 17, 'weight': 3.9851904108451413},\n",
       " {'source': 9, 'target': 15, 'weight': 3.848121445529786},\n",
       " {'source': 9, 'target': 16, 'weight': 3.848121445529786},\n",
       " {'source': 9, 'target': 31, 'weight': 9.185122844014574},\n",
       " {'source': 10, 'target': 13, 'weight': 8.607079764250578},\n",
       " {'source': 10, 'target': 19, 'weight': 4.045418851030188},\n",
       " {'source': 10, 'target': 20, 'weight': 4.700106147305379},\n",
       " {'source': 10, 'target': 21, 'weight': 8.269591339433623},\n",
       " {'source': 10, 'target': 23, 'weight': 4.231620823177488},\n",
       " {'source': 10, 'target': 25, 'weight': 3.9258586553151837},\n",
       " {'source': 10, 'target': 27, 'weight': 3.8098319973933723},\n",
       " {'source': 10, 'target': 28, 'weight': 8.607079764250578},\n",
       " {'source': 10, 'target': 29, 'weight': 4.231620823177488},\n",
       " {'source': 11, 'target': 14, 'weight': 9.370674633774033},\n",
       " {'source': 11, 'target': 16, 'weight': 3.7531109885139955},\n",
       " {'source': 11, 'target': 17, 'weight': 3.7531109885139955},\n",
       " {'source': 12, 'target': 17, 'weight': 3.715766910220457},\n",
       " {'source': 13, 'target': 18, 'weight': 3.734392269366609},\n",
       " {'source': 13, 'target': 19, 'weight': 4.106557527523455},\n",
       " {'source': 13, 'target': 20, 'weight': 4.8432456895536244},\n",
       " {'source': 13, 'target': 21, 'weight': 9.464851479534838},\n",
       " {'source': 13, 'target': 23, 'weight': 4.360492863215356},\n",
       " {'source': 13, 'target': 25, 'weight': 3.9851904108451413},\n",
       " {'source': 13, 'target': 27, 'weight': 3.8098319973933723},\n",
       " {'source': 13, 'target': 28, 'weight': 9.950124791926823},\n",
       " {'source': 13, 'target': 29, 'weight': 4.252831910822741},\n",
       " {'source': 13, 'target': 30, 'weight': 3.715766910220457},\n",
       " {'source': 13, 'target': 31, 'weight': 3.715766910220457},\n",
       " {'source': 14, 'target': 16, 'weight': 3.9851904108451413},\n",
       " {'source': 14, 'target': 17, 'weight': 4.025242240336359},\n",
       " {'source': 15, 'target': 16, 'weight': 3.848121445529786},\n",
       " {'source': 15, 'target': 31, 'weight': 3.8289288597511204},\n",
       " {'source': 16, 'target': 17, 'weight': 9.607894391523232},\n",
       " {'source': 16, 'target': 31, 'weight': 3.8289288597511204},\n",
       " {'source': 18, 'target': 19, 'weight': 9.048374180359595},\n",
       " {'source': 18, 'target': 25, 'weight': 9.417645335842487},\n",
       " {'source': 18, 'target': 30, 'weight': 6.344479679482282},\n",
       " {'source': 18, 'target': 31, 'weight': 4.045418851030188},\n",
       " {'source': 18, 'target': 32, 'weight': 3.8289288597511204},\n",
       " {'source': 19, 'target': 20, 'weight': 3.790830381033988},\n",
       " {'source': 19, 'target': 21, 'weight': 4.065696597405991},\n",
       " {'source': 19, 'target': 23, 'weight': 3.7719235356315695},\n",
       " {'source': 19, 'target': 25, 'weight': 9.656054162575664},\n",
       " {'source': 19, 'target': 28, 'weight': 4.086075986408485},\n",
       " {'source': 19, 'target': 29, 'weight': 3.790830381033988},\n",
       " {'source': 19, 'target': 30, 'weight': 6.004955788122659},\n",
       " {'source': 19, 'target': 31, 'weight': 3.9653141907499285},\n",
       " {'source': 19, 'target': 32, 'weight': 3.8289288597511204},\n",
       " {'source': 20, 'target': 21, 'weight': 4.771139155210344},\n",
       " {'source': 20, 'target': 23, 'weight': 9.048374180359595},\n",
       " {'source': 20, 'target': 25, 'weight': 3.7531109885139955},\n",
       " {'source': 20, 'target': 27, 'weight': 3.7531109885139955},\n",
       " {'source': 20, 'target': 28, 'weight': 4.8432456895536244},\n",
       " {'source': 20, 'target': 29, 'weight': 3.8867957090175302},\n",
       " {'source': 20, 'target': 33, 'weight': 3.715766910220457},\n",
       " {'source': 21, 'target': 23, 'weight': 4.382349924649493},\n",
       " {'source': 21, 'target': 25, 'weight': 3.9258586553151837},\n",
       " {'source': 21, 'target': 27, 'weight': 3.8098319973933723},\n",
       " {'source': 21, 'target': 28, 'weight': 9.464851479534838},\n",
       " {'source': 21, 'target': 29, 'weight': 4.18951549247639},\n",
       " {'source': 22, 'target': 23, 'weight': 3.7531109885139955},\n",
       " {'source': 22, 'target': 30, 'weight': 5.856692901447937},\n",
       " {'source': 22, 'target': 32, 'weight': 9.70445533548508},\n",
       " {'source': 23, 'target': 25, 'weight': 3.734392269366609},\n",
       " {'source': 23, 'target': 27, 'weight': 3.734392269366609},\n",
       " {'source': 23, 'target': 28, 'weight': 4.360492863215356},\n",
       " {'source': 23, 'target': 29, 'weight': 3.7719235356315695},\n",
       " {'source': 23, 'target': 30, 'weight': 3.734392269366609},\n",
       " {'source': 23, 'target': 32, 'weight': 3.7531109885139955},\n",
       " {'source': 23, 'target': 33, 'weight': 3.715766910220457},\n",
       " {'source': 25, 'target': 28, 'weight': 3.9455371037160107},\n",
       " {'source': 25, 'target': 29, 'weight': 3.7531109885139955},\n",
       " {'source': 25, 'target': 30, 'weight': 6.156971967642852},\n",
       " {'source': 25, 'target': 31, 'weight': 4.025242240336359},\n",
       " {'source': 25, 'target': 32, 'weight': 3.8289288597511204},\n",
       " {'source': 26, 'target': 33, 'weight': 10.0},\n",
       " {'source': 27, 'target': 28, 'weight': 3.848121445529786},\n",
       " {'source': 27, 'target': 29, 'weight': 9.003245225862656},\n",
       " {'source': 28, 'target': 29, 'weight': 4.295573582107392},\n",
       " {'source': 30, 'target': 31, 'weight': 3.9455371037160107},\n",
       " {'source': 30, 'target': 32, 'weight': 6.004955788122659}]"
      ]
     },
     "execution_count": 31,
     "metadata": {},
     "output_type": "execute_result"
    }
   ],
   "source": [
    "links"
   ]
  },
  {
   "cell_type": "code",
   "execution_count": 36,
   "metadata": {},
   "outputs": [
    {
     "data": {
      "text/plain": [
       "[{'id': 0, 'r': 282, 'group': 2},\n",
       " {'id': 1, 'r': 53, 'group': 1},\n",
       " {'id': 2, 'r': 3, 'group': 2},\n",
       " {'id': 3, 'r': 249, 'group': 2},\n",
       " {'id': 4, 'r': 7, 'group': 1},\n",
       " {'id': 5, 'r': 2854, 'group': 4},\n",
       " {'id': 6, 'r': 71, 'group': 2},\n",
       " {'id': 7, 'r': 24, 'group': 9},\n",
       " {'id': 8, 'r': 184, 'group': 5},\n",
       " {'id': 9, 'r': 6, 'group': 2},\n",
       " {'id': 10, 'r': 100, 'group': 9},\n",
       " {'id': 11, 'r': 113, 'group': 7},\n",
       " {'id': 12, 'r': 1, 'group': 2},\n",
       " {'id': 13, 'r': 125, 'group': 6},\n",
       " {'id': 14, 'r': 1, 'group': 4},\n",
       " {'id': 15, 'r': 267, 'group': 11},\n",
       " {'id': 16, 'r': 1, 'group': 11},\n",
       " {'id': 17, 'r': 1, 'group': 1},\n",
       " {'id': 18, 'r': 2, 'group': 2},\n",
       " {'id': 19, 'r': 178, 'group': 8},\n",
       " {'id': 20, 'r': 1, 'group': 1},\n",
       " {'id': 21, 'r': 26, 'group': 10},\n",
       " {'id': 22, 'r': 33, 'group': 13},\n",
       " {'id': 23, 'r': 84, 'group': 12},\n",
       " {'id': 24, 'r': 12, 'group': 2},\n",
       " {'id': 25, 'r': 2, 'group': 12},\n",
       " {'id': 26, 'r': 3, 'group': 8},\n",
       " {'id': 27, 'r': 2, 'group': 5},\n",
       " {'id': 28, 'r': 3, 'group': 8}]"
      ]
     },
     "execution_count": 36,
     "metadata": {},
     "output_type": "execute_result"
    }
   ],
   "source": [
    "nodes"
   ]
  },
  {
   "cell_type": "code",
   "execution_count": 51,
   "metadata": {},
   "outputs": [],
   "source": [
    "hamming_distances = []\n",
    "n = len(keys)\n",
    "for i in range(n):\n",
    "    for j in range(i, n):\n",
    "        hamming_distances.append(computeHammingDistance(keys[i], keys[j]))"
   ]
  },
  {
   "cell_type": "code",
   "execution_count": 52,
   "metadata": {},
   "outputs": [
    {
     "name": "stdout",
     "output_type": "stream",
     "text": [
      "Populating the interactive namespace from numpy and matplotlib\n"
     ]
    },
    {
     "name": "stderr",
     "output_type": "stream",
     "text": [
      "/usr/local/lib/python3.7/site-packages/IPython/core/magics/pylab.py:160: UserWarning: pylab import has clobbered these variables: ['mat', 'f']\n",
      "`%matplotlib` prevents importing * from pylab and numpy\n",
      "  \"\\n`%matplotlib` prevents importing * from pylab and numpy\"\n"
     ]
    }
   ],
   "source": [
    "%pylab inline"
   ]
  },
  {
   "cell_type": "code",
   "execution_count": 54,
   "metadata": {},
   "outputs": [
    {
     "data": {
      "image/png": "[encoded data removed]",
      "text/plain": [
       "<Figure size 432x288 with 1 Axes>"
      ]
     },
     "metadata": {
      "needs_background": "light"
     },
     "output_type": "display_data"
    }
   ],
   "source": [
    "hist(hamming_distances);"
   ]
  },
  {
   "cell_type": "code",
   "execution_count": null,
   "metadata": {},
   "outputs": [],
   "source": []
  }
 ],
 "metadata": {
  "kernelspec": {
   "display_name": "Python 3",
   "language": "python",
   "name": "python3"
  }
 },
 "nbformat": 4,
 "nbformat_minor": 2
}
