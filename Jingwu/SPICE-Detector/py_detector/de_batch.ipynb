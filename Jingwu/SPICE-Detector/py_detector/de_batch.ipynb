{
 "cells": [
  {
   "cell_type": "code",
   "execution_count": 1,
   "metadata": {},
   "outputs": [
    {
     "name": "stdout",
     "output_type": "stream",
     "text": [
      "Requirement already satisfied: numpy in /usr/local/lib/python3.7/site-packages (from -r requirements.txt (line 1)) (1.16.2)\n",
      "Requirement already satisfied: scipy in /usr/local/lib/python3.7/site-packages (from -r requirements.txt (line 2)) (1.2.1)\n",
      "Requirement already satisfied: argparse in /usr/local/lib/python3.7/site-packages (from -r requirements.txt (line 3)) (1.4.0)\n",
      "Requirement already satisfied: pyyaml in /usr/local/lib/python3.7/site-packages (from -r requirements.txt (line 4)) (5.1)\n"
     ]
    }
   ],
   "source": [
    "!pip3 install -r requirements.txt"
   ]
  },
  {
   "cell_type": "markdown",
   "metadata": {},
   "source": [
    "Load dependency"
   ]
  },
  {
   "cell_type": "code",
   "execution_count": 2,
   "metadata": {},
   "outputs": [],
   "source": [
    "import argparse\n",
    "import yaml\n",
    "import numpy as np\n",
    "import time\n",
    "import warnings\n",
    "\n",
    "from scipy.signal import filtfilt\n",
    "warnings.filterwarnings(\"ignore\")"
   ]
  },
  {
   "cell_type": "markdown",
   "metadata": {},
   "source": [
    "Load local detection libraries"
   ]
  },
  {
   "cell_type": "code",
   "execution_count": 3,
   "metadata": {},
   "outputs": [],
   "source": [
    "from lib.wavio import *\n",
    "from lib.functions import *\n",
    "from lib.detection import *\n",
    "from spice_detector import *"
   ]
  },
  {
   "cell_type": "markdown",
   "metadata": {},
   "source": [
    "Load configuration from setting file"
   ]
  },
  {
   "cell_type": "code",
   "execution_count": 4,
   "metadata": {},
   "outputs": [
    {
     "data": {
      "text/plain": [
       "{'lowResDet': True,\n",
       " 'highResDet': True,\n",
       " 'baseDir': './../input_files',\n",
       " 'outDir': './../outputs',\n",
       " 'metaDir': '',\n",
       " 'tfFullFile': 'settings/720_130730_invSensit.tf',\n",
       " 'depl': '2019-3-14-1',\n",
       " 'channel': 1,\n",
       " 'bpRanges': [5000, 100000],\n",
       " 'filterOrder': 5,\n",
       " 'dBppThreshold': 118,\n",
       " 'frameLengthUs': 2000,\n",
       " 'clipThreshold': 0.98,\n",
       " 'REWavExt': '(\\\\.x)?\\\\.wav',\n",
       " 'DateRegExp': '_(\\\\d*)_(\\\\d*)',\n",
       " 'guidedDetector': False,\n",
       " 'gDxls': [],\n",
       " 'diary': False,\n",
       " 'LRbuffer': 0.0025,\n",
       " 'energyThr': 0.25,\n",
       " 'dEvLims': [-0.5, 0.9],\n",
       " 'HRbuffer': 0.00025,\n",
       " 'delphClickDurLims': [30, 1200],\n",
       " 'cutPeakBelowKHz': 5,\n",
       " 'cutPeakAboveKHz': 100,\n",
       " 'mergeThr': 100,\n",
       " 'energyPrctile': 70,\n",
       " 'rmLonerClicks': False,\n",
       " 'rmEchos': False,\n",
       " 'lockOut': 0.01,\n",
       " 'maxNeighbor': 10,\n",
       " 'saveNoise': 1,\n",
       " 'saveForTPWS': 1,\n",
       " 'overwrite': True,\n",
       " 'verbose': True,\n",
       " 'ppExt': 'cHR'}"
      ]
     },
     "execution_count": 4,
     "metadata": {},
     "output_type": "execute_result"
    }
   ],
   "source": [
    "detParamsFile = 'settings/settings_detector_xwav_default.yaml'\n",
    "config = load_config(detParamsFile)\n",
    "config"
   ]
  },
  {
   "cell_type": "markdown",
   "metadata": {},
   "source": [
    "Convert configuration to Anonymous Class"
   ]
  },
  {
   "cell_type": "code",
   "execution_count": 5,
   "metadata": {},
   "outputs": [
    {
     "data": {
      "text/plain": [
       "(<__main__.DetParams at 0x121560630>, 'settings/720_130730_invSensit.tf')"
      ]
     },
     "execution_count": 5,
     "metadata": {},
     "output_type": "execute_result"
    }
   ],
   "source": [
    "detParams = type('DetParams',(object,),config)()\n",
    "detParams, detParams.tfFullFile"
   ]
  },
  {
   "cell_type": "markdown",
   "metadata": {},
   "source": [
    "build output directory"
   ]
  },
  {
   "cell_type": "code",
   "execution_count": 6,
   "metadata": {},
   "outputs": [],
   "source": [
    "detParams = dt_buildDirs(detParams)"
   ]
  },
  {
   "cell_type": "markdown",
   "metadata": {},
   "source": [
    "get input files and generate output files"
   ]
  },
  {
   "cell_type": "code",
   "execution_count": 7,
   "metadata": {},
   "outputs": [
    {
     "data": {
      "text/plain": [
       "(['./../input_files/Arctic_C2_10_150728_020000.x.wav'],\n",
       " ['./../outputs/2019-3-14-1_metadata/Arctic_C2_10_150728_020000.txt'])"
      ]
     },
     "execution_count": 7,
     "metadata": {},
     "output_type": "execute_result"
    }
   ],
   "source": [
    "fullFileNames = fn_findXWAVs(detParams.baseDir, 'x.wav')\n",
    "fullLabels = fn_getFileset(detParams.metaDir, fullFileNames)\n",
    "fullFileNames, fullLabels"
   ]
  },
  {
   "cell_type": "markdown",
   "metadata": {},
   "source": [
    "start detection batch"
   ]
  },
  {
   "cell_type": "code",
   "execution_count": 7,
   "metadata": {},
   "outputs": [
    {
     "name": "stdout",
     "output_type": "stream",
     "text": [
      "\n",
      "[dt_batch]:\tbeginning file 0 of 1\n",
      "[dt_batch]:\tdone with ./../input_files/Arctic_C2_10_150728_020000.x.wav\n",
      "[dt_batch]:\t 17.13 s\n",
      "\n"
     ]
    }
   ],
   "source": [
    "runMode = 'batchRun'\n",
    "encounterTimes = list()\n",
    "dt_batch(fullFileNames,fullLabels,detParams,encounterTimes,runMode)"
   ]
  },
  {
   "cell_type": "markdown",
   "metadata": {},
   "source": [
    "Outputs available in `./../outputs`"
   ]
  }
 ],
 "metadata": {
  "kernelspec": {
   "display_name": "Python 3",
   "language": "python",
   "name": "python3"
  },
  "language_info": {
   "codemirror_mode": {
    "name": "ipython",
    "version": 3
   },
   "file_extension": ".py",
   "mimetype": "text/x-python",
   "name": "python",
   "nbconvert_exporter": "python",
   "pygments_lexer": "ipython3",
   "version": "3.7.3"
  }
 },
 "nbformat": 4,
 "nbformat_minor": 2
}
